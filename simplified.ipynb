{
 "cells": [
  {
   "cell_type": "code",
   "execution_count": 1,
   "id": "4fda41ef",
   "metadata": {},
   "outputs": [],
   "source": [
    "from river import stream,tree,metrics\n",
    "import utils\n",
    "from encoding import prefix_bin\n",
    "import csv\n",
    "import copy\n",
    "import numpy as np\n",
    "from sklearn.metrics import classification_report, accuracy_score, f1_score, roc_auc_score\n",
    "from tqdm import tqdm\n",
    "import pickle as pkl\n",
    "import matplotlib.pyplot as plt\n",
    "import os,json\n",
    "import datetime\n",
    "from collections import deque\n",
    "from sklearn.tree import DecisionTreeClassifier\n"
   ]
  },
  {
   "cell_type": "code",
   "execution_count": 148,
   "id": "3ce3f935",
   "metadata": {},
   "outputs": [],
   "source": [
    "# Experiment settings\n",
    "'./DATA/logs/synthetic_log_bc1.csv'\n",
    "dataset_label = 'synthetic_log_bc1'\n",
    "\n",
    "performance_measure_type = 'ROCAUC'\n",
    "\n",
    "dataset_loc = './DATA/logs/'+ dataset_label +'.csv'\n",
    "try:\n",
    "    os.makedirs('./result/%s'%(dataset_label))\n",
    "except:\n",
    "    pass\n",
    "\n",
    "# Set streaming classifier\n",
    "classifier = 'hatc'\n",
    "if classifier == 'htc':\n",
    "    streaming_classifier = tree.HoeffdingTreeClassifier(grace_period=10, split_criterion='info_gain')\n",
    "elif classifier =='hatc':\n",
    "    streaming_classifier = tree.HoeffdingAdaptiveTreeClassifier(grace_period=100, split_criterion='hellinger' )\n",
    "elif classifier == 'efdt':\n",
    "    streaming_classifier = tree.ExtremelyFastDecisionTreeClassifier(grace_period=100,split_criterion='info_gain')"
   ]
  },
  {
   "cell_type": "code",
   "execution_count": 149,
   "id": "11d21c9d",
   "metadata": {},
   "outputs": [
    {
     "name": "stdout",
     "output_type": "stream",
     "text": [
      "{'key_pair': {'Case ID': 'caseid', 'Activity': 'activity', 'Complete Timestamp': 'ts'}, 'categorical_attrs': ['activity'], 'maximum_prefix': 12}\n"
     ]
    }
   ],
   "source": [
    "# Invoke parameters for dataset\n",
    "window_size = 100\n",
    "test_size = 30\n",
    "with open('./dataset_parameters.json','r') as json_file:\n",
    "    parameters = json.load(json_file)[dataset_label]\n",
    "    print(parameters)\n",
    "    key_pair = parameters['key_pair']\n",
    "    catatars = parameters['categorical_attrs']\n",
    "    maximum_prefix = parameters['maximum_prefix']\n",
    "    maximum_prefix =12"
   ]
  },
  {
   "cell_type": "code",
   "execution_count": 150,
   "id": "196085be",
   "metadata": {},
   "outputs": [],
   "source": [
    "dataset = stream.iter_csv(\n",
    "            dataset_loc\n",
    "            )\n",
    "\n",
    "totallength = len(list(dataset))"
   ]
  },
  {
   "cell_type": "code",
   "execution_count": 151,
   "id": "92cf669c",
   "metadata": {},
   "outputs": [],
   "source": [
    "dataset = stream.iter_csv(\n",
    "            dataset_loc,\n",
    "            # drop=['Complete Timestamp'],\n",
    "            target='outcome'\n",
    "            )\n",
    "enctype = 'Index-base'"
   ]
  },
  {
   "cell_type": "code",
   "execution_count": 152,
   "id": "14598b46",
   "metadata": {},
   "outputs": [],
   "source": [
    "streaming_db ={}\n",
    "training_models ={}\n",
    "test_cases = deque()\n",
    "feature_matrix ={}\n",
    "\n",
    "save_model = {}\n",
    "casecount = 0\n",
    "rowcounter = 0\n",
    "finished_db ={}\n",
    "running_case = 0\n",
    "window_acc_dict = {}\n",
    "prediction_result = dict()\n",
    "for i in range(1, maximum_prefix+1): prediction_result[i] = {}\n",
    "finished_caseid = set()\n",
    "usedingrace = set()"
   ]
  },
  {
   "cell_type": "code",
   "execution_count": 153,
   "id": "286bfcaf",
   "metadata": {},
   "outputs": [],
   "source": [
    "def performance_measurement(metrics, type='Accuracy'):\n",
    "    if type == 'Accuracy':\n",
    "        return_value = metrics.Accuracy()\n",
    "    elif type =='F1':\n",
    "        return_value = metrics.F1()\n",
    "    elif type =='ROCAUC':\n",
    "        return_value = metrics.ROCAUC()\n",
    "    elif type == 'WeightedF1':\n",
    "        return_value = metrics.WeightedF1()\n",
    "        \n",
    "    return return_value"
   ]
  },
  {
   "cell_type": "code",
   "execution_count": 154,
   "id": "754cee2a",
   "metadata": {},
   "outputs": [],
   "source": [
    "def display_progress(row_counting, total_length, interval=500):\n",
    "    if rowcounter%interval == 0:\n",
    "        print(round(rowcounter*100/totallength,2) ,'%', 'Case finished: %s'%(casecount), 'Running cases: %s'%(len(streaming_db)))"
   ]
  },
  {
   "cell_type": "code",
   "execution_count": 155,
   "id": "22fe3a6f",
   "metadata": {},
   "outputs": [],
   "source": [
    "def update_test_cases(new_case, test_cases):\n",
    "    test_cases.append(new_case)\n",
    "    if len(test_cases) > test_size:\n",
    "        test_cases.popleft()"
   ]
  },
  {
   "cell_type": "code",
   "execution_count": 156,
   "id": "68a34b61",
   "metadata": {
    "scrolled": true
   },
   "outputs": [
    {
     "name": "stdout",
     "output_type": "stream",
     "text": [
      "0.0 % Case finished: 0 Running cases: 0\n",
      "4.65 % Case finished: 41 Running cases: 49\n",
      "9.3 % Case finished: 86 Running cases: 95\n",
      "13.95 % Case finished: 138 Running cases: 145\n",
      "18.59 % Case finished: 185 Running cases: 193\n"
     ]
    }
   ],
   "source": [
    "'''\n",
    "Before test and training streaming event predictive monitoring, grace period is preceded to initialize model by prefix length\n",
    "and obtain feature matrix to transform future events\n",
    "'''\n",
    "for x,y in dataset:\n",
    "    display_progress(rowcounter, totallength)\n",
    "    rowcounter +=1\n",
    "    # Event stream change dictionary keys\n",
    "    x = utils.dictkey_chg(x, key_pair)\n",
    "    \n",
    "    if dataset_label !='bpic15':\n",
    "        x['ts'] = x['ts'][:-4]\n",
    "\n",
    "    x['outcome'] =y \n",
    "    # Initialize case by prefix length\n",
    "    caseid = x['caseid']\n",
    "    outcome = x['outcome']\n",
    "#     progress = x['progress']\n",
    "\n",
    "    x.pop('caseid')\n",
    "    x.pop('outcome')\n",
    "    \n",
    "#     x.pop('progress')\n",
    "\n",
    "    case_bin = prefix_bin(caseid, x)\n",
    "    case_bin.set_enctype(enctype)\n",
    "\n",
    "    if caseid not in list(streaming_db.keys()):\n",
    "        case_bin.set_prefix_length(1)    \n",
    "        streaming_db[caseid] = []\n",
    "    elif caseid in finished_caseid:\n",
    "        pass\n",
    "    else:\n",
    "        case_bin.set_prefix_length(len(streaming_db[caseid])+1)\n",
    "        case_bin.set_prev_enc(streaming_db[caseid][-1])\n",
    "    \n",
    "    # Encode event and cases and add to DB\n",
    "    case_bin.update_truelabel(outcome)   \n",
    "    case_bin.update_encoded(catattrs=catatars,enctype=enctype)\n",
    "    ts = case_bin.event['ts']\n",
    "    streaming_db[caseid].append(case_bin)\n",
    "    # Detect label appeared case \n",
    "    if outcome != '' and caseid not in finished_caseid:\n",
    "        usedingrace.add(caseid)\n",
    "        for i in streaming_db[caseid]:\n",
    "            i.update_truelabel(outcome)\n",
    "        finished_caseid.add(caseid)\n",
    "        # Adding newly finished case to training set.    \n",
    "        casecount +=1\n",
    "        # Grace period to collect feature matrix\n",
    "        if casecount < 200:\n",
    "            case_length = len(streaming_db[caseid])\n",
    "            if case_length >= maximum_prefix:\n",
    "                if 'prefix_%s'%(maximum_prefix) not in list(feature_matrix.keys()):\n",
    "                    feature_matrix['prefix_%s'%(maximum_prefix)]=set()\n",
    "                    training_models['prefix_%s'%(maximum_prefix)] = [streaming_classifier,\n",
    "                                                               0]\n",
    "                feature_list = list(streaming_db[caseid][maximum_prefix-1].encoded.keys())\n",
    "                for x in feature_list: feature_matrix['prefix_%s'%(maximum_prefix)].add(x) \n",
    "            \n",
    "        else:\n",
    "            break"
   ]
  },
  {
   "cell_type": "code",
   "execution_count": 157,
   "id": "c1654d7f",
   "metadata": {},
   "outputs": [],
   "source": [
    "casecount_=0\n",
    "for caseid in list(usedingrace):\n",
    "\n",
    "    case_length = len(streaming_db[caseid])\n",
    "    if case_length >= maximum_prefix:\n",
    "        x = streaming_db[caseid][maximum_prefix-1]\n",
    "        x.encoded = utils.readjustment_training(x.encoded, feature_matrix['prefix_%s'%(maximum_prefix)])\n",
    "        outcome = x.true_label\n",
    "        training_models['prefix_%s'%(x.prefix_length)][0].learn_one(x.encoded,outcome)\n",
    "        training_models['prefix_%s'%(x.prefix_length)][1] +=1\n",
    "        \n",
    "        update_test_cases(streaming_db[caseid], test_cases)\n",
    "    \n",
    "    prediction_result[maximum_prefix][casecount_] = {}\n",
    "    y_truelist = []\n",
    "    y_predlist = []\n",
    "    for case in test_cases:\n",
    "        if len(case) >= maximum_prefix:\n",
    "            x = case[maximum_prefix-1]\n",
    "            model = training_models['prefix_%s'%(x.prefix_length)][0]\n",
    "            y_pred = training_models['prefix_%s'%(x.prefix_length)][0].predict_proba_one(x.encoded)\n",
    "            y_truelist.append(x.true_label)\n",
    "            y_predlist.append(y_pred)\n",
    "    prediction_result[maximum_prefix][casecount_]['y_true'] = y_truelist\n",
    "    prediction_result[maximum_prefix][casecount_]['y_pred'] = y_predlist\n",
    "    casecount_ +=1"
   ]
  },
  {
   "cell_type": "code",
   "execution_count": 159,
   "id": "57872f71",
   "metadata": {},
   "outputs": [
    {
     "name": "stdout",
     "output_type": "stream",
     "text": [
      "23.24 % Case finished: 225 Running cases: 32\n",
      "27.89 % Case finished: 273 Running cases: 83\n",
      "32.54 % Case finished: 323 Running cases: 131\n",
      "37.19 % Case finished: 375 Running cases: 181\n",
      "41.84 % Case finished: 420 Running cases: 230\n",
      "46.49 % Case finished: 466 Running cases: 275\n",
      "51.13 % Case finished: 512 Running cases: 322\n",
      "55.78 % Case finished: 562 Running cases: 368\n",
      "60.43 % Case finished: 608 Running cases: 413\n",
      "65.08 % Case finished: 648 Running cases: 459\n",
      "69.73 % Case finished: 692 Running cases: 500\n",
      "74.38 % Case finished: 739 Running cases: 548\n",
      "79.03 % Case finished: 785 Running cases: 592\n",
      "83.67 % Case finished: 830 Running cases: 638\n",
      "88.32 % Case finished: 873 Running cases: 682\n",
      "92.97 % Case finished: 917 Running cases: 727\n",
      "97.62 % Case finished: 967 Running cases: 776\n"
     ]
    }
   ],
   "source": [
    "'''\n",
    "Streaming event label prediction start.\n",
    "- Test and training steps are executed when case finished/ event arrived with label\n",
    "'''\n",
    "for i in streaming_db.keys(): usedingrace.add(i)\n",
    "streaming_db ={}\n",
    "cdhappend ={}\n",
    "for i in range(1, maximum_prefix+1): cdhappend[i] = 0\n",
    "for x,y in dataset:\n",
    "    display_progress(rowcounter, totallength)\n",
    "        \n",
    "    rowcounter +=1\n",
    "    # Event stream change dictionary keys\n",
    "    x = utils.dictkey_chg(x, key_pair)\n",
    "\n",
    "    if dataset_label !='bpic15':\n",
    "        x['ts'] = x['ts'][:-4]\n",
    "\n",
    "    # Check label possible\n",
    "    # x = utils.set_label(x)\n",
    "    x['outcome'] =y \n",
    "    # Initialize case by prefix length\n",
    "    caseid = x['caseid']\n",
    "    outcome = x['outcome']\n",
    "    x.pop('caseid')\n",
    "    x.pop('outcome')\n",
    "    \n",
    "    if caseid not in usedingrace:\n",
    "        case_bin = prefix_bin(caseid, x)\n",
    "        case_bin.set_enctype(enctype)\n",
    "\n",
    "        if caseid not in list(streaming_db.keys()):\n",
    "            case_bin.set_prefix_length(1)    \n",
    "            streaming_db[caseid] = []\n",
    "            running_case +=1\n",
    "        elif caseid in finished_caseid:\n",
    "            pass\n",
    "        else:\n",
    "            case_bin.set_prefix_length(len(streaming_db[caseid])+1)\n",
    "            case_bin.set_prev_enc(streaming_db[caseid][-1])\n",
    "\n",
    "        # Encode event and cases and add to DB\n",
    "        case_bin.update_truelabel(outcome)   \n",
    "        case_bin.update_encoded(catattrs=catatars,enctype=enctype)\n",
    "        ts = case_bin.event['ts']\n",
    "        \n",
    "        if case_bin.prefix_length == maximum_prefix:\n",
    "            case_bin.encoded = utils.readjustment_training(case_bin.encoded, feature_matrix['prefix_%s'%(case_bin.prefix_length)])\n",
    "        streaming_db[caseid].append(case_bin)\n",
    "\n",
    "        # Detect label appeared case \n",
    "        if outcome != '' and caseid not in finished_caseid:\n",
    "            finished_caseid.add(caseid)\n",
    "            \n",
    "            # Adding newly finished case to training set.\n",
    "            casecount +=1    \n",
    "\n",
    "            # Modify encoded attributes of cases with feature matrix\n",
    "            case_length = len(streaming_db[caseid])\n",
    "            if case_length >= maximum_prefix:\n",
    "\n",
    "                update_test_cases(streaming_db[caseid], test_cases)\n",
    "                streaming_db[caseid][maximum_prefix-1].update_truelabel(outcome)\n",
    "                x = streaming_db[caseid][maximum_prefix-1].encoded\n",
    "                prefix_length =streaming_db[caseid][maximum_prefix-1].prefix_length\n",
    "                training_models['prefix_%s'%(prefix_length)][0].learn_one(x, outcome)\n",
    "                training_models['prefix_%s'%(prefix_length)][1] +=1\n",
    "\n",
    "                y_pred = training_models['prefix_%s'%(prefix_length)][0].predict_one(x)\n",
    "                model_update_count = training_models['prefix_%s'%(prefix_length)][1]\n",
    "                save_model['%s_%s'%(prefix_length, model_update_count)] = training_models['prefix_%s'%(streaming_db[caseid][maximum_prefix-1].prefix_length)][0]\n",
    "\n",
    "            y_truelist = []\n",
    "            y_predlist = []\n",
    "\n",
    "            for case in test_cases:\n",
    "                if len(case) >= maximum_prefix:\n",
    "                    x = case[maximum_prefix-1]\n",
    "                    length = x.prefix_length\n",
    "                    y_pred = training_models['prefix_%s'%(x.prefix_length)][0].predict_proba_one(x.encoded)\n",
    "                    y_truelist.append(x.true_label)\n",
    "                    y_predlist.append(y_pred)\n",
    "\n",
    "            prediction_result[maximum_prefix][casecount] = {}\n",
    "            prediction_result[maximum_prefix][casecount]['y_true'] = y_truelist\n",
    "            prediction_result[maximum_prefix][casecount]['y_pred'] = y_predlist\n",
    "            if 'b1' not in caseid and cdhappend[maximum_prefix] == 0:\n",
    "                cdhappend[maximum_prefix] = model_update_count\n"
   ]
  },
  {
   "cell_type": "code",
   "execution_count": 160,
   "id": "52f098f2",
   "metadata": {},
   "outputs": [
    {
     "data": {
      "text/plain": [
       "793"
      ]
     },
     "execution_count": 160,
     "metadata": {},
     "output_type": "execute_result"
    }
   ],
   "source": [
    "len(streaming_db.keys())"
   ]
  },
  {
   "cell_type": "code",
   "execution_count": 115,
   "id": "6bd156ee",
   "metadata": {},
   "outputs": [
    {
     "data": {
      "text/plain": [
       "{'y_true': [], 'y_pred': []}"
      ]
     },
     "execution_count": 115,
     "metadata": {},
     "output_type": "execute_result"
    }
   ],
   "source": [
    "prediction_result[12][100]"
   ]
  },
  {
   "cell_type": "code",
   "execution_count": 161,
   "id": "f1859ad9",
   "metadata": {
    "scrolled": false
   },
   "outputs": [
    {
     "data": {
      "image/png": "[encoded data removed]",
      "text/plain": [
       "<Figure size 1080x576 with 1 Axes>"
      ]
     },
     "metadata": {
      "needs_background": "light"
     },
     "output_type": "display_data"
    },
    {
     "data": {
      "text/plain": [
       "<Figure size 432x288 with 0 Axes>"
      ]
     },
     "metadata": {},
     "output_type": "display_data"
    }
   ],
   "source": [
    "evaluation_method = 'F1'\n",
    "prefix = maximum_prefix\n",
    "update_count =[]\n",
    "evaluation_list = []\n",
    "length_list = []\n",
    "for update in prediction_result[prefix].keys():\n",
    "    y_true = prediction_result[prefix][update]['y_true']\n",
    "    y_pred_prob = prediction_result[prefix][update]['y_pred']\n",
    "    y_pred = [max(x, key=x.get) for x in y_pred_prob]\n",
    "    update_count.append(update)\n",
    "\n",
    "    if evaluation_method =='Accuracy':\n",
    "        value = accuracy_score(y_true, y_pred)\n",
    "    elif evaluation_method =='F1':\n",
    "        value = f1_score(y_true, y_pred, average='macro')\n",
    "#             warnings.filterwarnings(\"ignore\")\n",
    "\n",
    "    elif evaluation_method =='ROCAUC':\n",
    "        y_pred_prob = np.array([[x['False'], x['True']] for x in y_pred_prob])\n",
    "        try:\n",
    "            value = roc_auc_score(y_true, y_pred_prob[:, 1])\n",
    "        except:\n",
    "            value = 0\n",
    "    evaluation_list.append(value)\n",
    "plt.figure(figsize=(15,8))\n",
    "plt.plot(update_count, evaluation_list, label = 'Accuracy')\n",
    "#     plt.plot(update_count, length_list)\n",
    "plt.axvline(cdhappend[prefix], color = 'black', linestyle ='--', label = 'Concept drift')\n",
    "plt.title(prefix)\n",
    "plt.xlabel('Model update count')\n",
    "plt.legend(bbox_to_anchor=(0.65, -0.1), ncol=2)\n",
    "plt.ylim(0,1)\n",
    "plt.show()\n",
    "# plt.savefig('./img/prefix_%s_%s update.png'%(prefix, evaluation_method), dpi=250)\n",
    "plt.cla()\n",
    "plt.clf()"
   ]
  },
  {
   "cell_type": "code",
   "execution_count": 99,
   "id": "3e8377ea",
   "metadata": {},
   "outputs": [
    {
     "data": {
      "text/plain": [
       "0.9946355900850907"
      ]
     },
     "execution_count": 99,
     "metadata": {},
     "output_type": "execute_result"
    }
   ],
   "source": [
    "from sklearn.datasets import load_breast_cancer\n",
    "from sklearn.linear_model import LogisticRegression\n",
    "from sklearn.metrics import roc_auc_score\n",
    "X, y = load_breast_cancer(return_X_y=True)\n",
    "clf = LogisticRegression(solver=\"liblinear\", random_state=0).fit(X, y)\n",
    "roc_auc_score(y, clf.predict_proba(X)[:, 1])\n",
    "roc_auc_score(y, clf.decision_function(X))"
   ]
  },
  {
   "cell_type": "code",
   "execution_count": 47,
   "id": "5c825f2d",
   "metadata": {},
   "outputs": [],
   "source": [
    "Y_pred = []\n",
    "for x in y_pred_prob:\n",
    "    Y_pred.append([x['False'], x['True']])\n",
    "y_pred_prob = np.array([[x['False'], x['True']] for x in y_pred_prob])"
   ]
  },
  {
   "cell_type": "code",
   "execution_count": 42,
   "id": "12b3f0c5",
   "metadata": {},
   "outputs": [
    {
     "data": {
      "text/plain": [
       "0.6282612661923006"
      ]
     },
     "execution_count": 42,
     "metadata": {},
     "output_type": "execute_result"
    }
   ],
   "source": [
    "roc_auc_score(y_true, np.array(Y_pred)[:, 1])"
   ]
  },
  {
   "cell_type": "code",
   "execution_count": 41,
   "id": "366d5f59",
   "metadata": {},
   "outputs": [
    {
     "data": {
      "text/plain": [
       "(300,)"
      ]
     },
     "execution_count": 41,
     "metadata": {},
     "output_type": "execute_result"
    }
   ],
   "source": [
    "np.array(Y_pred)[:, 1].shape"
   ]
  },
  {
   "cell_type": "code",
   "execution_count": 35,
   "id": "41aca58a",
   "metadata": {},
   "outputs": [
    {
     "data": {
      "text/plain": [
       "(300,)"
      ]
     },
     "execution_count": 35,
     "metadata": {},
     "output_type": "execute_result"
    }
   ],
   "source": [
    "np.array(y_true).shape"
   ]
  },
  {
   "cell_type": "code",
   "execution_count": 36,
   "id": "349e68dd",
   "metadata": {},
   "outputs": [
    {
     "data": {
      "text/plain": [
       "(569,)"
      ]
     },
     "execution_count": 36,
     "metadata": {},
     "output_type": "execute_result"
    }
   ],
   "source": [
    "y.shape"
   ]
  },
  {
   "cell_type": "code",
   "execution_count": 38,
   "id": "30df10c1",
   "metadata": {},
   "outputs": [
    {
     "data": {
      "text/plain": [
       "(569,)"
      ]
     },
     "execution_count": 38,
     "metadata": {},
     "output_type": "execute_result"
    }
   ],
   "source": [
    "clf.predict_proba(X)[:,1].shape"
   ]
  }
 ],
 "metadata": {
  "kernelspec": {
   "display_name": "Python 3 (ipykernel)",
   "language": "python",
   "name": "python3"
  },
  "language_info": {
   "codemirror_mode": {
    "name": "ipython",
    "version": 3
   },
   "file_extension": ".py",
   "mimetype": "text/x-python",
   "name": "python",
   "nbconvert_exporter": "python",
   "pygments_lexer": "ipython3",
   "version": "3.9.4"
  }
 },
 "nbformat": 4,
 "nbformat_minor": 5
}
